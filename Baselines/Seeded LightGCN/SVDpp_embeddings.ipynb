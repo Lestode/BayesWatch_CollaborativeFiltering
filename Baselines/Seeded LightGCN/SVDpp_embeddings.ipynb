{
 "cells": [
  {
   "cell_type": "code",
   "execution_count": 1,
   "id": "2d57feb0-afa1-4b8b-8b82-39e8daf4a848",
   "metadata": {},
   "outputs": [],
   "source": [
    "import os\n",
    "import pandas as pd\n",
    "import numpy as np\n",
    "import torch\n",
    "from surprise import Dataset as SurpriseDataset, Reader, SVDpp\n",
    "import pickle"
   ]
  },
  {
   "cell_type": "code",
   "execution_count": 2,
   "id": "520cbd37-d73c-4918-ab47-0e1edfaa36f4",
   "metadata": {},
   "outputs": [],
   "source": [
    "data_dir = '/home/Soufiane/Desktop/CIL/BayesWatch_CollaborativeFiltering/Data/'\n",
    "output_dir = '/home/Soufiane/Desktop/CIL/BayesWatch_CollaborativeFiltering/Baselines/Seeded LightGCN/svd_embedding/'\n",
    "n_factors = 128\n",
    "svd_epochs = 100\n",
    "seed = 0\n"
   ]
  },
  {
   "cell_type": "code",
   "execution_count": 3,
   "id": "a5872031-cded-4b66-93b2-051020aa830f",
   "metadata": {},
   "outputs": [],
   "source": [
    "\n",
    "# Data Loading\n",
    "def read_ratings(data_dir: str):\n",
    "    \"\"\"\n",
    "    Load explicit ratings from train_ratings.csv.\n",
    "    Returns DataFrame with columns ['sid','pid','rating'].\n",
    "    \"\"\"\n",
    "    path = os.path.join(data_dir, 'train_ratings.csv')\n",
    "    if not os.path.exists(path):\n",
    "        raise FileNotFoundError(f\"Ratings file not found: {path}\")\n",
    "    df = pd.read_csv(path, usecols=['sid_pid','rating'], dtype={'sid_pid': str, 'rating': float})\n",
    "    df[['sid','pid']] = df['sid_pid'].str.split('_', expand=True).astype(int)\n",
    "    return df[['sid','pid','rating']]\n"
   ]
  },
  {
   "cell_type": "code",
   "execution_count": 4,
   "id": "c39a1b6a-c8fb-461d-b3bf-98bc0b69229c",
   "metadata": {},
   "outputs": [],
   "source": [
    "# SVD++ Training\n",
    "def train_svdpp(ratings_df, n_factors: int, n_epochs: int, seed: int = 0):\n",
    "    \"\"\"\n",
    "    Train SVD++ on explicit ratings only.\n",
    "    Returns trained Surprise algorithm and the corresponding trainset.\n",
    "    \"\"\"\n",
    "    np.random.seed(seed)\n",
    "    torch.manual_seed(seed)\n",
    "\n",
    "    reader = Reader(rating_scale=(1,5))\n",
    "    data = SurpriseDataset.load_from_df(ratings_df[['sid','pid','rating']], reader)\n",
    "    trainset = data.build_full_trainset()\n",
    "\n",
    "    algo = SVDpp(n_factors=n_factors, n_epochs=n_epochs, random_state=seed)\n",
    "    algo.fit(trainset)\n",
    "    return algo, trainset"
   ]
  },
  {
   "cell_type": "code",
   "execution_count": 5,
   "id": "a4b3eef2-75e6-4165-aef4-f5e934d100d0",
   "metadata": {},
   "outputs": [],
   "source": [
    "# Make output dir\n",
    "os.makedirs(output_dir, exist_ok=True)\n",
    "\n",
    "# Load data and train\n",
    "ratings   = read_ratings(data_dir)\n",
    "algo, trainset = train_svdpp(ratings, n_factors, svd_epochs, seed)\n",
    "\n",
    "# Extract embeddings and biases from svdpp\n",
    "pu = algo.pu\n",
    "qi = algo.qi\n",
    "bu = algo.bu \n",
    "bi = algo.bi\n",
    "\n",
    "# raw user id -> inner user id\n",
    "user_map = trainset._raw2inner_id_users   \n",
    "# raw item id -> inner item id\n",
    "item_map = trainset._raw2inner_id_items    \n"
   ]
  },
  {
   "cell_type": "code",
   "execution_count": 6,
   "id": "615c24ff-b7d4-4b70-9a7d-6cbe8f4679a8",
   "metadata": {},
   "outputs": [
    {
     "name": "stdout",
     "output_type": "stream",
     "text": [
      "Saved embeddings to /home/Soufiane/Desktop/CIL/BayesWatch_CollaborativeFiltering/Baselines/Seeded LightGCN/svd_embedding//svd_embeddings.pt and model to /home/Soufiane/Desktop/CIL/BayesWatch_CollaborativeFiltering/Baselines/Seeded LightGCN/svd_embedding//svd_model.pkl\n"
     ]
    }
   ],
   "source": [
    "# Save embeddings and mappings\n",
    "save_dict = {\n",
    "    'pu': pu,\n",
    "    'qi': qi,\n",
    "    'bu': bu,\n",
    "    'bi': bi,\n",
    "    'user_map': user_map,\n",
    "    'item_map': item_map\n",
    "}\n",
    "torch.save(save_dict, os.path.join(output_dir, f'svd_embeddings.pt'))\n",
    "\n",
    "# Save the trained Surprise model\n",
    "with open(os.path.join(output_dir, f'svd_model.pkl'), 'wb') as f:\n",
    "    pickle.dump(algo, f)\n",
    "\n",
    "print(f\"Saved embeddings to {output_dir}/svd_embeddings.pt \"\n",
    "      f\"and model to {output_dir}/svd_model.pkl\")"
   ]
  },
  {
   "cell_type": "code",
   "execution_count": null,
   "id": "0cb71c48-0541-4201-84a8-ad82d43a8bdf",
   "metadata": {},
   "outputs": [],
   "source": []
  }
 ],
 "metadata": {
  "kernelspec": {
   "display_name": "Python 3.12.9 64-bit",
   "language": "python",
   "name": "python3"
  },
  "language_info": {
   "codemirror_mode": {
    "name": "ipython",
    "version": 3
   },
   "file_extension": ".py",
   "mimetype": "text/x-python",
   "name": "python",
   "nbconvert_exporter": "python",
   "pygments_lexer": "ipython3",
   "version": "3.12.9"
  },
  "vscode": {
   "interpreter": {
    "hash": "e7370f93d1d0cde622a1f8e1c04877d8463912d04d973331ad4851f04de6915a"
   }
  }
 },
 "nbformat": 4,
 "nbformat_minor": 5
}
